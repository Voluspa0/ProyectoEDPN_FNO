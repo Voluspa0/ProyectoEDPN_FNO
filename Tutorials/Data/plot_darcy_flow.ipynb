{
  "cells": [
    {
      "cell_type": "markdown",
      "metadata": {},
      "source": [
        "\n",
        "\n",
        "# A simple Darcy-Flow dataset\n",
        "An intro to the small Darcy-Flow example dataset we ship with the package.\n"
      ]
    },
    {
      "cell_type": "markdown",
      "metadata": {},
      "source": [
        "## Import the library\n",
        "We first import our `neuralop` library and required dependencies.\n",
        "\n"
      ]
    },
    {
      "cell_type": "code",
      "execution_count": 1,
      "metadata": {
        "collapsed": false
      },
      "outputs": [],
      "source": [
        "import matplotlib.pyplot as plt\n",
        "from neuralop.data.datasets import load_darcy_flow_small\n",
        "from neuralop.layers.embeddings import GridEmbedding2D"
      ]
    },
    {
      "cell_type": "markdown",
      "metadata": {},
      "source": [
        "## Load the dataset\n",
        "Training samples are 16x16 and we load testing samples at both \n",
        "16x16 and 32x32 (to test resolution invariance).\n",
        "\n"
      ]
    },
    {
      "cell_type": "code",
      "execution_count": 2,
      "metadata": {
        "collapsed": false
      },
      "outputs": [
        {
          "name": "stdout",
          "output_type": "stream",
          "text": [
            "Loading test db for resolution 16 with 50 samples \n",
            "Loading test db for resolution 32 with 50 samples \n"
          ]
        }
      ],
      "source": [
        "train_loader, test_loaders, data_processor = load_darcy_flow_small(\n",
        "        n_train=100, batch_size=4, \n",
        "        test_resolutions=[16, 32], n_tests=[50, 50], test_batch_sizes=[4, 2],\n",
        "        )\n",
        "\n",
        "train_dataset = train_loader.dataset"
      ]
    },
    {
      "cell_type": "markdown",
      "metadata": {},
      "source": [
        "## Visualizing the data\n",
        "\n"
      ]
    },
    {
      "cell_type": "code",
      "execution_count": 3,
      "metadata": {
        "collapsed": false
      },
      "outputs": [
        {
          "name": "stdout",
          "output_type": "stream",
          "text": [
            "16\n",
            "Testing samples for res 16 have shape torch.Size([1, 16, 16])\n",
            "32\n",
            "Testing samples for res 32 have shape torch.Size([1, 32, 32])\n",
            "Training samples have shape torch.Size([16, 16])\n"
          ]
        },
        {
          "name": "stderr",
          "output_type": "stream",
          "text": [
            "c:\\Users\\alfre\\OneDrive\\Documentos\\Universidad\\9NO SEMESTRE\\EDPN\\Proyecto_FNO\\fno_venv\\Lib\\site-packages\\torch\\utils\\data\\dataloader.py:665: UserWarning: 'pin_memory' argument is set as true but no accelerator is found, then device pinned memory won't be used.\n",
            "  warnings.warn(warn_msg)\n",
            "C:\\Users\\alfre\\AppData\\Local\\Temp\\ipykernel_26620\\2688208138.py:47: UserWarning: FigureCanvasAgg is non-interactive, and thus cannot be shown\n",
            "  fig.show()\n"
          ]
        },
        {
          "data": {
            "image/png": "[encoded data removed]",
            "text/plain": [
              "<Figure size 700x700 with 4 Axes>"
            ]
          },
          "metadata": {},
          "output_type": "display_data"
        }
      ],
      "source": [
        "for res, test_loader in test_loaders.items():\n",
        "    print(res)\n",
        "    # Get first batch\n",
        "    batch = next(iter(test_loader))\n",
        "    x = batch['x']\n",
        "    y = batch['y']\n",
        "\n",
        "    print(f'Testing samples for res {res} have shape {x.shape[1:]}')\n",
        "\n",
        "\n",
        "data = train_dataset[0]\n",
        "x = data['x']\n",
        "y = data['y']\n",
        "\n",
        "print(f'Training samples have shape {x.shape[1:]}')\n",
        "\n",
        "\n",
        "# Which sample to view\n",
        "index = 0\n",
        "\n",
        "data = train_dataset[index]\n",
        "data = data_processor.preprocess(data, batched=False)\n",
        "\n",
        "# The first step of the default FNO model is a grid-based\n",
        "# positional embedding. We will add it manually here to\n",
        "# visualize the channels appended by this embedding.\n",
        "positional_embedding = GridEmbedding2D(in_channels=1)\n",
        "# at train time, data will be collated with a batch dim.\n",
        "# we create a batch dim to pass into the embedding, then re-squeeze\n",
        "x = positional_embedding(data['x'].unsqueeze(0)).squeeze(0)\n",
        "y = data['y']\n",
        "fig = plt.figure(figsize=(7, 7))\n",
        "ax = fig.add_subplot(2, 2, 1)\n",
        "ax.imshow(x[0], cmap='gray')\n",
        "ax.set_title('input x')\n",
        "ax = fig.add_subplot(2, 2, 2)\n",
        "ax.imshow(y.squeeze())\n",
        "ax.set_title('input y')\n",
        "ax = fig.add_subplot(2, 2, 3)\n",
        "ax.imshow(x[1])\n",
        "ax.set_title('x: 1st pos embedding')\n",
        "ax = fig.add_subplot(2, 2, 4)\n",
        "ax.imshow(x[2])\n",
        "ax.set_title('x: 2nd pos embedding')\n",
        "fig.suptitle('Visualizing one input sample', y=0.98)\n",
        "plt.tight_layout()\n",
        "fig.show()"
      ]
    }
  ],
  "metadata": {
    "kernelspec": {
      "display_name": "fno_venv",
      "language": "python",
      "name": "python3"
    },
    "language_info": {
      "codemirror_mode": {
        "name": "ipython",
        "version": 3
      },
      "file_extension": ".py",
      "mimetype": "text/x-python",
      "name": "python",
      "nbconvert_exporter": "python",
      "pygments_lexer": "ipython3",
      "version": "3.12.7"
    }
  },
  "nbformat": 4,
  "nbformat_minor": 0
}
