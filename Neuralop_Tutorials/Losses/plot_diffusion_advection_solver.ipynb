{
  "cells": [
    {
      "cell_type": "markdown",
      "metadata": {},
      "source": [
        "\n",
        "\n",
        "# A simple finite-difference solver\n",
        "An intro to our loss module's finite difference utility demonstrating\n",
        "its use to create a simple numerical solver for the diffusion-advection equation.\n"
      ]
    },
    {
      "cell_type": "markdown",
      "metadata": {},
      "source": [
        "## Import the library\n",
        "We first import our `neuralop` library and required dependencies.\n",
        "\n"
      ]
    },
    {
      "cell_type": "code",
      "execution_count": 1,
      "metadata": {
        "collapsed": false
      },
      "outputs": [],
      "source": [
        "import torch\n",
        "import numpy as np\n",
        "import matplotlib.pyplot as plt\n",
        "import matplotlib.animation as animation\n",
        "\n",
        "from neuralop.losses.finite_diff import central_diff_2d  \n",
        "\n",
        "device = torch.device(\"cuda\" if torch.cuda.is_available() else \"cpu\")"
      ]
    },
    {
      "cell_type": "markdown",
      "metadata": {},
      "source": [
        "## Defining our problem\n",
        "We aim to solve the 2D diffusion advection equation:\n",
        "\n",
        "$u_t + cx \\cdot u_x + cy \\cdot u_y = \\nu (u_xx + u_yy) + f(x,y,t)$,\n",
        "\n",
        "Where $f(x,y,t)$ is a source term and $cx$ and $cy$ are advection speeds in x and y.\n",
        "We set simulation parameters below:\n",
        "\n"
      ]
    },
    {
      "cell_type": "code",
      "execution_count": 2,
      "metadata": {
        "collapsed": false
      },
      "outputs": [],
      "source": [
        "## Simulation parameters\n",
        "Lx, Ly = 2.0, 2.0   # Domain lengths\n",
        "nx, ny = 64, 64   # Grid resolution\n",
        "T = 1.6    # Total simulation time\n",
        "dt = 0.001  # Time step\n",
        "nu = 0.02   # diffusion coefficient\n",
        "cx, cy = 1.0, 0.6  # advection speeds\n",
        "\n",
        "## Create grid\n",
        "X = torch.linspace(0, Lx, nx, device=device).repeat(ny, 1).T \n",
        "Y = torch.linspace(0, Ly, ny, device=device).repeat(nx, 1)  \n",
        "dx = Lx / (nx - 1)\n",
        "dy = Ly / (ny - 1)\n",
        "nt = int(T / dt)\n",
        "\n",
        "\n",
        "## Initial condition and source term\n",
        "u = (-torch.sin(2 * np.pi * Y) * torch.cos(2 * np.pi * X)\n",
        "        + 0.3 * torch.exp(-((X - 0.75)**2 + (Y - 0.5)**2) / 0.02)\n",
        "        - 0.3 * torch.exp(-((X - 1.25)**2 + (Y - 1.5)**2) / 0.02)).to(device)\n",
        "\n",
        "def source_term(X, Y, t):\n",
        "    return 0.2 * torch.sin(3 * np.pi * X) * torch.cos(3 * np.pi * Y) * torch.cos(4 * np.pi * t)"
      ]
    },
    {
      "cell_type": "markdown",
      "metadata": {},
      "source": [
        "## Simulate evolution using numerical solver\n",
        "\n"
      ]
    },
    {
      "cell_type": "code",
      "execution_count": 3,
      "metadata": {
        "collapsed": false
      },
      "outputs": [],
      "source": [
        "u_evolution = [u.clone()]\n",
        "\n",
        "t = torch.tensor(0.0)\n",
        "for _ in range(nt):\n",
        "    \n",
        "    # Compute derivatives\n",
        "    u_x, u_y = central_diff_2d(u, [dx, dy])\n",
        "    u_xx, _ = central_diff_2d(u_x, [dx, dy])\n",
        "    _, u_yy = central_diff_2d(u_y, [dx, dy])\n",
        "\n",
        "    # Evolve one step in time using Euler's method\n",
        "    u = u + dt * (-cx * u_x - cy * u_y + nu * (u_xx + u_yy) + source_term(X, Y, t))\n",
        "    t += dt\n",
        "    u_evolution.append(u.clone())\n",
        "\n",
        "u_evolution = torch.stack(u_evolution).cpu().numpy()"
      ]
    },
    {
      "cell_type": "markdown",
      "metadata": {},
      "source": [
        "## Animate our solution\n",
        "\n"
      ]
    },
    {
      "cell_type": "code",
      "execution_count": 4,
      "metadata": {
        "collapsed": false
      },
      "outputs": [
        {
          "name": "stderr",
          "output_type": "stream",
          "text": [
            "MovieWriter Pillow unavailable; using Pillow instead.\n"
          ]
        },
        {
          "data": {
            "image/png": "[encoded data removed]",
            "text/plain": [
              "<Figure size 600x600 with 2 Axes>"
            ]
          },
          "metadata": {},
          "output_type": "display_data"
        }
      ],
      "source": [
        "num_frames = 100\n",
        "frame_indices = torch.linspace(0, len(u_evolution) - 1, num_frames, dtype=torch.int).cpu().numpy()\n",
        "u_frames = u_evolution[frame_indices]\n",
        "\n",
        "fig, ax = plt.subplots(figsize=(6, 6))\n",
        "cmap_u = ax.imshow(u_frames[0], extent=[0, Lx, 0, Ly], origin=\"lower\", cmap=\"plasma\")\n",
        "ax.set_title(\"Advection-Diffusion: u\")\n",
        "plt.colorbar(cmap_u, ax=ax, shrink=0.75)\n",
        "\n",
        "def update(frame):\n",
        "    cmap_u.set_data(u_frames[frame])\n",
        "    ax.set_title(f\"Time: {frame_indices[frame] * dt:.3f}\")\n",
        "    ax.set_xticks([])\n",
        "    ax.set_yticks([])\n",
        "    return cmap_u,\n",
        "\n",
        "ani = animation.FuncAnimation(fig, update, frames=len(u_frames), interval=50, blit=False)\n",
        "ani.save(\"advection_diffusion.gif\", writer=\"Pillow\", fps=30)"
      ]
    }
  ],
  "metadata": {
    "kernelspec": {
      "display_name": "fno_venv",
      "language": "python",
      "name": "python3"
    },
    "language_info": {
      "codemirror_mode": {
        "name": "ipython",
        "version": 3
      },
      "file_extension": ".py",
      "mimetype": "text/x-python",
      "name": "python",
      "nbconvert_exporter": "python",
      "pygments_lexer": "ipython3",
      "version": "3.12.7"
    }
  },
  "nbformat": 4,
  "nbformat_minor": 0
}
